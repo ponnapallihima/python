{
 "cells": [
  {
   "cell_type": "markdown",
   "metadata": {},
   "source": [
    "# problem solving and programming\n",
    "\n",
    "## day no-09\n",
    "\n",
    "## Date-12/05/19"
   ]
  },
  {
   "cell_type": "markdown",
   "metadata": {},
   "source": [
    "# problem1:\n",
    "\n",
    "## problem statement:\n",
    "\n",
    "Define a function to check if a given year is a leap year. Returns a boolean value\n",
    "\n",
    "## testcase:\n",
    "\n",
    "* 2000 -> True\n",
    "* 1900 -> False\n",
    "* 2012 -> True\n",
    "* 2020 -> True\n",
    "* 0200 -> False\n",
    "\n",
    "### Explanation:\n",
    "\n",
    "A given year is leap year if it is divisible by 4 and not by 100,by400\n",
    "\n",
    "* 2100->2100%400!=0\n",
    "* 2100 % 100==0//Not a leap year\n",
    "* 2016->2016 % 400!=0\n",
    "* 2016 % 100!=0 \n",
    "* 2016 % 4==0\n",
    "\n",
    "logical operator-and or Bitwise operator-|&"
   ]
  },
  {
   "cell_type": "code",
   "execution_count": 1,
   "metadata": {},
   "outputs": [
    {
     "data": {
      "text/plain": [
       "True"
      ]
     },
     "execution_count": 1,
     "metadata": {},
     "output_type": "execute_result"
    }
   ],
   "source": [
    "def checkleapyear(year):\n",
    "    if(year % 400 ==0)or(year % 100 !=0 and year % 4 == 0):\n",
    "        return True\n",
    "    return False\n",
    "checkleapyear(2000)\n"
   ]
  },
  {
   "cell_type": "markdown",
   "metadata": {},
   "source": [
    "# problem2:\n",
    "\n",
    "## problem statement:\n",
    "\n",
    "Python script to determine the difference in date for given two dates in YYYY:MM:DD format(0 <= YYYY <= 9999, 1 <= MM <= 12, 1 <= DD <= 31) following the leap year rules. Return the total number of days existing between the two dates.\n",
    "        \n",
    "## testcase:\n",
    "\n",
    "* dateDifference('2019:05:10', '2019:05:01') -> 9\n",
    "* dateDifference('0003:03:03', '0003:06:06') -> 95\n",
    "\n",
    "## Explaination:\n",
    "\n",
    "calculate the month difference and subtract difference"
   ]
  },
  {
   "cell_type": "code",
   "execution_count": 2,
   "metadata": {},
   "outputs": [
    {
     "ename": "IndentationError",
     "evalue": "expected an indented block (<ipython-input-2-e76b10adc19c>, line 4)",
     "output_type": "error",
     "traceback": [
      "\u001b[1;36m  File \u001b[1;32m\"<ipython-input-2-e76b10adc19c>\"\u001b[1;36m, line \u001b[1;32m4\u001b[0m\n\u001b[1;33m    def numDaysInMonth(month):\u001b[0m\n\u001b[1;37m      ^\u001b[0m\n\u001b[1;31mIndentationError\u001b[0m\u001b[1;31m:\u001b[0m expected an indented block\n"
     ]
    }
   ],
   "source": [
    "def datedifference(date1,date2):\n",
    "    return\n",
    "\n",
    "def daysInfeb(year):\n",
    "    if(year % 400==0) or (year%100 !=0 and year % 4 == 0)\n",
    "       return 29\n",
    "    return 28\n",
    "def numDaysInMonth(month):\n",
    "    monthDays={'01':31,'03':31,'04':30,'06':30,'07':31,'08':31,'09':30,'10':31,'11':30,'12':31}\n",
    "    if (month<7 and month % 2==0) or (month>7 and month %2 !=0):\n",
    "         return 30\n",
    "    else:\n",
    "         return 31 \n",
    "        \n",
    "numDaysInMonth(2)       "
   ]
  },
  {
   "cell_type": "markdown",
   "metadata": {},
   "source": [
    "# problem3:\n",
    "\n",
    "## problem statement:\n",
    "\n",
    "Define a function to find the average of all the outer elements of an N x M matrix.\n",
    "\n",
    "## Test case:\n",
    "\n",
    "* averageOuterMatrix([[1, 2, 3], [4, 5, 6], [7, 8, 9], [10, 11, 12]] -> 4.5"
   ]
  },
  {
   "cell_type": "code",
   "execution_count": 4,
   "metadata": {},
   "outputs": [
    {
     "data": {
      "text/plain": [
       "6.5"
      ]
     },
     "execution_count": 4,
     "metadata": {},
     "output_type": "execute_result"
    }
   ],
   "source": [
    "def averageOuterMatrix(a):\n",
    "    c=s=0\n",
    "    for i in range(0,len(a)):\n",
    "        if i==0 or i==len(a)-1:\n",
    "            s=s+sum(a[i])\n",
    "            c=c+len(a[i])\n",
    "        else:\n",
    "            s=s+a[i][0]+a[i][len(a[i])-1]\n",
    "            c=c+2\n",
    "    return s/c\n",
    "averageOuterMatrix([[1, 2, 3], [4, 5, 6], [7, 8, 9], [10, 11, 12]]) \n"
   ]
  },
  {
   "cell_type": "markdown",
   "metadata": {},
   "source": [
    "# problem4:\n",
    "\n",
    "## problem statement:\n",
    "\n",
    "Define a function to print the sequence of spiral pattern elements for a given N x N matrix\n",
    "\n",
    "## Testcase:\n",
    "\n",
    "spiralPattern([[1,2,3], [4,5,6], [7,8,9]]) -> 1 2 3 6 9 8 7 4 5"
   ]
  },
  {
   "cell_type": "code",
   "execution_count": 5,
   "metadata": {},
   "outputs": [
    {
     "name": "stdout",
     "output_type": "stream",
     "text": [
      "1 2 3 6 9 8 7 4 5 "
     ]
    }
   ],
   "source": [
    "def spiralPattern(a):\n",
    "    if len(a)%2==0:\n",
    "        n=len(a)\n",
    "    else:\n",
    "        n=len(a)+1\n",
    "    j=0\n",
    "    k=1\n",
    "    while(n!=0):\n",
    "        for i in range(j,len(a[j])-k):\n",
    "            print(a[j][i],end=' ')\n",
    "        for i in range(j,len(a)-k):\n",
    "            print(a[i][len(a[j])-k],end=' ')\n",
    "        for i in range(len(a[j])-k,j,-1):\n",
    "            print(a[len(a)-k][i],end=' ')\n",
    "        for i in range(len(a)-k,j,-1):\n",
    "            print(a[i][j],end=' ')\n",
    "        n=n-2\n",
    "        j=j+1\n",
    "        k=k+1\n",
    "    if(len(a)%2==1):\n",
    "        print(a[len(a)//2][len(a)//2],end=' ')\n",
    "spiralPattern([[1,2,3], [4,5,6], [7,8,9]])"
   ]
  }
 ],
 "metadata": {
  "kernelspec": {
   "display_name": "Python 3",
   "language": "python",
   "name": "python3"
  },
  "language_info": {
   "codemirror_mode": {
    "name": "ipython",
    "version": 3
   },
   "file_extension": ".py",
   "mimetype": "text/x-python",
   "name": "python",
   "nbconvert_exporter": "python",
   "pygments_lexer": "ipython3",
   "version": "3.7.3"
  }
 },
 "nbformat": 4,
 "nbformat_minor": 2
}
