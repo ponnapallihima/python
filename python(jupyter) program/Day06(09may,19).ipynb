{
 "cells": [
  {
   "cell_type": "markdown",
   "metadata": {},
   "source": [
    "# Problem Solving and Programming\n",
    "## Day No.- 06\n",
    "## Date: 09 May 19"
   ]
  },
  {
   "cell_type": "markdown",
   "metadata": {},
   "source": [
    "# problem1:\n",
    "## problem statement:\n",
    "Design a procedure to determine if a given string is a Palindrome\n",
    "\n",
    "## Test Case:\n",
    "\n",
    "* Palindrome(\"racecar\") -> True\n",
    "* Palindrome(\"raptor\") -> False"
   ]
  },
  {
   "cell_type": "code",
   "execution_count": 5,
   "metadata": {},
   "outputs": [
    {
     "name": "stdout",
     "output_type": "stream",
     "text": [
      "True\n",
      "False\n"
     ]
    }
   ],
   "source": [
    "def palindrome(s):\n",
    "    rs= s[-1::-1]\n",
    "    if(s==rs):\n",
    "        return True\n",
    "    return False\n",
    "print(palindrome('racecar'))\n",
    "print(palindrome('raptor'))"
   ]
  },
  {
   "cell_type": "markdown",
   "metadata": {},
   "source": [
    "# problem2:\n",
    "\n",
    "## problem statement:\n",
    "\n",
    "Finding the greatest of 3 numbers\n",
    "\n",
    "## Constraints:\n",
    "\n",
    "Given number will be in the range [1,10000000000]\n",
    "\n",
    "## Test Case:\n",
    "\n",
    "* Greatest(5,7,10)-> 10 is Greatest\n",
    "* Greatest(11,9,8)-> 11 is Greatest"
   ]
  },
  {
   "cell_type": "code",
   "execution_count": 1,
   "metadata": {},
   "outputs": [
    {
     "name": "stdout",
     "output_type": "stream",
     "text": [
      "15 is greatest\n",
      "None\n",
      "20 is greatest\n",
      "None\n"
     ]
    }
   ],
   "source": [
    "def greatest(x,y,z):\n",
    "    if x>y and x>z:\n",
    "        print(x,\"is greatest\")\n",
    "    elif y>z:\n",
    "        print(y,\"is greatest\")\n",
    "    else:\n",
    "        print(z,\"is greatest\")\n",
    "print(greatest(6,8,15))\n",
    "print(greatest(5,9,20))"
   ]
  },
  {
   "cell_type": "markdown",
   "metadata": {},
   "source": [
    "# problem3:\n",
    "## problem statement:\n",
    "Determining whether a number is Even or Odd\n",
    "\n",
    "## Constraints:\n",
    "Given number will be in the range [1,10000000000]\n",
    "\n",
    "## Test Case:\n",
    "* evenorodd(5)->odd\n",
    "* evenorodd(6)->even"
   ]
  },
  {
   "cell_type": "code",
   "execution_count": 2,
   "metadata": {},
   "outputs": [
    {
     "name": "stdout",
     "output_type": "stream",
     "text": [
      "odd number\n",
      "None\n",
      "Number is even\n",
      "None\n"
     ]
    }
   ],
   "source": [
    "def evenorodd(n):\n",
    "    if n%2==0:\n",
    "        print(\"Number is even\")\n",
    "    else:\n",
    "        print(\"odd number\")\n",
    "print(evenorodd(5))\n",
    "print(evenorodd(6))"
   ]
  },
  {
   "cell_type": "markdown",
   "metadata": {},
   "source": [
    "# problem4:\n",
    "## problem statement:\n",
    " Arithmetic Operations\n",
    "\n",
    "## Constraints:\n",
    " Given number will be in the range [1,10000000000]\n",
    "\n",
    "## Test Case\n",
    "* a*b\n",
    "* a-b\n",
    "* a+b\n",
    "* a/b"
   ]
  },
  {
   "cell_type": "code",
   "execution_count": 4,
   "metadata": {},
   "outputs": [
    {
     "name": "stdout",
     "output_type": "stream",
     "text": [
      "addition:   25  substraction:   15  Multiplication:  100  Division:   4.0\n"
     ]
    }
   ],
   "source": [
    "def arithematic(a,b):\n",
    "    print(\"addition:  \",a+b,\n",
    "       \" substraction:  \", a-b,\n",
    "       \" Multiplication: \",a*b,\n",
    "        \" Division:  \",a/b) \n",
    "arithematic(20,5)"
   ]
  },
  {
   "cell_type": "markdown",
   "metadata": {},
   "source": [
    "# problem5:\n",
    "## problem statement:\n",
    " Evaluate the polynomial : f(x)= x^3 + 2 X^2 + 3 X - 10\n",
    "\n",
    "## Constraints:\n",
    "Given number will be in the range [1,1000]"
   ]
  },
  {
   "cell_type": "code",
   "execution_count": 8,
   "metadata": {},
   "outputs": [
    {
     "data": {
      "text/plain": [
       "180"
      ]
     },
     "execution_count": 8,
     "metadata": {},
     "output_type": "execute_result"
    }
   ],
   "source": [
    "def polynomial(x):\n",
    "    for i in range(1,1000):\n",
    "        f=(pow(x,3) + 2 * pow( x,2) + 3 * x - 10)\n",
    "    return f\n",
    "polynomial(5)"
   ]
  },
  {
   "cell_type": "markdown",
   "metadata": {},
   "source": [
    "# problem6:\n",
    "## problem statement:\n",
    "Given 2 ints, a and b, return True if one if them is 10 or if their sum is 10.\n",
    "\n",
    "## Constraints:\n",
    "Given number will be in the range [1,10000000000]\n",
    "\n",
    "## Test Case\n",
    "* makes10(9, 10) → True\n",
    "* makes10(9, 9) → False\n",
    "* makes10(1, 9) → True"
   ]
  },
  {
   "cell_type": "code",
   "execution_count": 10,
   "metadata": {},
   "outputs": [
    {
     "name": "stdout",
     "output_type": "stream",
     "text": [
      "True\n",
      "False\n",
      "True\n"
     ]
    }
   ],
   "source": [
    "def trueorfalse(a,b):\n",
    "    if a+b==10 or a==10 or b==10:\n",
    "        return True\n",
    "    else:\n",
    "        return False\n",
    "print(trueorfalse(10,9))\n",
    "print(trueorfalse(9,9))\n",
    "print(trueorfalse(1,9))"
   ]
  },
  {
   "cell_type": "markdown",
   "metadata": {},
   "source": [
    "# problem7:\n",
    "## problem statement:\n",
    "Given 2 int values, return True if one is negative and one is positive. Except if the parameter \"negative\" is True, then return True only if both are negative.\n",
    "\n",
    "## Constraints:\n",
    "Given number will be in the range [1,10000000000,boolean]\n",
    "\n",
    "## Test Case\n",
    "* pos_neg(1, -1, False) → True\n",
    "* pos_neg(-1, 1, False) → True\n",
    "* pos_neg(-4, -5, True) → True\n",
    "* pos_neg(-1, 1, True) -> False\n",
    "* pos_neg(-1, -1, False) -> False"
   ]
  },
  {
   "cell_type": "code",
   "execution_count": 11,
   "metadata": {},
   "outputs": [
    {
     "name": "stdout",
     "output_type": "stream",
     "text": [
      "True\n",
      "True\n",
      "True\n",
      "False\n",
      "False\n"
     ]
    }
   ],
   "source": [
    "def pos_neg(n1, n2, b):\n",
    "    return (n1<0 and n2>0 and b==False) or (n1>0 and n2<0 and b==False) or (n1<0 and n2<0 and b==True) \n",
    "        \n",
    "print(pos_neg(-1 ,1 ,False))\n",
    "print(pos_neg(1, -1, False))\n",
    "print(pos_neg(-4, -5, True))\n",
    "print(pos_neg(-1, 1, True))\n",
    "print(pos_neg(-1, -1, False))"
   ]
  },
  {
   "cell_type": "markdown",
   "metadata": {},
   "source": [
    "# problem8:\n",
    "## problem statement:\n",
    "Given an int n, return True if it is within 10 of 100 or 200. Note: abs(num) computes the absolute value of a number.\n",
    "\n",
    "## Constraints:\n",
    "Given number will be in the range [90,110]\n",
    "\n",
    "## Test Case\n",
    "* near_hundred(93) → True\n",
    "* near_hundred(90) → True\n",
    "* near_hundred(89) → False"
   ]
  },
  {
   "cell_type": "code",
   "execution_count": 13,
   "metadata": {},
   "outputs": [
    {
     "name": "stdout",
     "output_type": "stream",
     "text": [
      "True\n",
      "True\n",
      "False\n"
     ]
    }
   ],
   "source": [
    "def near_hundred(n):\n",
    "    if(n<=110 and n>=90):\n",
    "        return True\n",
    "    else :\n",
    "        return False\n",
    "print(near_hundred(93))\n",
    "print(near_hundred(90))\n",
    "print(near_hundred(89))"
   ]
  },
  {
   "cell_type": "markdown",
   "metadata": {},
   "source": [
    "# problem9:\n",
    "# problem statement:\n",
    "Create a Random Number Generator as a Procedure which takes the Range(lb, ub) and returns a Random number in the given range\n",
    "\n",
    "## Constraints:\n",
    "lb < random number < ub\n",
    "\n",
    "## Test Case\n",
    "* randomgenerator(1,100) -> will be in range (1,100)"
   ]
  },
  {
   "cell_type": "code",
   "execution_count": 14,
   "metadata": {},
   "outputs": [
    {
     "data": {
      "text/plain": [
       "19"
      ]
     },
     "execution_count": 14,
     "metadata": {},
     "output_type": "execute_result"
    }
   ],
   "source": [
    "import random\n",
    "\n",
    "def randomgenerator(lb, ub):\n",
    "    return random.randrange(lb+1,ub)\n",
    "randomgenerator(1,100)"
   ]
  },
  {
   "cell_type": "markdown",
   "metadata": {},
   "source": [
    "# problem10:\n",
    "\n",
    "## problem statement:\n",
    " Given an integer N, calculate the sum of N random numbers.\n",
    "\n",
    "## Constraints:\n",
    " Given n in the range[1,100000000)"
   ]
  },
  {
   "cell_type": "code",
   "execution_count": 15,
   "metadata": {},
   "outputs": [
    {
     "data": {
      "text/plain": [
       "51417255001381441"
      ]
     },
     "execution_count": 15,
     "metadata": {},
     "output_type": "execute_result"
    }
   ],
   "source": [
    "import random\n",
    "\n",
    "def sumofrandom(n,lb,ub):\n",
    "    sum=0\n",
    "    for i in range(1,n+1):\n",
    "        sum=sum + random.randint(lb,ub)\n",
    "    return sum\n",
    "sumofrandom(100,0,1000000000000000)"
   ]
  },
  {
   "cell_type": "markdown",
   "metadata": {},
   "source": [
    "# problem11:\n",
    "## problem statement:\n",
    "Design a procedure to perform Linear search on list of N unsorted unique numbers. It take an array and the key element to be searched and returns the index of the element of key element if found. Else returns -1\n",
    "\n",
    "## Constraints:\n",
    "\n",
    "## Test Case:\n",
    "* linearsearch([1,4,2,8,0],2) -> 2\n",
    "* linearsearch([15,12,9,6,3,-3],0) -> -1\n",
    "* linearsearch([321,543,567,983],543) -> 1"
   ]
  },
  {
   "cell_type": "code",
   "execution_count": 16,
   "metadata": {},
   "outputs": [
    {
     "name": "stdout",
     "output_type": "stream",
     "text": [
      "2\n",
      "-1\n",
      "1\n"
     ]
    }
   ],
   "source": [
    "def linearsearch(a,key):\n",
    "    for i in range(0, len(a)):\n",
    "        if(a[i]==key):\n",
    "            return i\n",
    "    return -1\n",
    "print(linearsearch([1,4,2,8,0],2))\n",
    "print(linearsearch([15,12,9,6,3,-3],0))\n",
    "print(linearsearch([321,543,567,983],543))"
   ]
  },
  {
   "cell_type": "markdown",
   "metadata": {},
   "source": [
    "# problem12:\n",
    "\n",
    "## problem statement:\n",
    " Design a procedure calculate the maximum, minimum and average of N numbers\n",
    "\n",
    "## Test Case:\n",
    "* data( a[1,2,3,4,5] ) -> Max = 5, Min = 1, Avg = 3"
   ]
  },
  {
   "cell_type": "code",
   "execution_count": 17,
   "metadata": {},
   "outputs": [
    {
     "name": "stdout",
     "output_type": "stream",
     "text": [
      "maximum:  5\n",
      "minimum:  1\n",
      "average  3.0\n"
     ]
    }
   ],
   "source": [
    "def maxormin(a,n):\n",
    "    print(\"maximum: \",max(a))\n",
    "    print(\"minimum: \",min(a))\n",
    "    print(\"average \",sum(a)/n)\n",
    "maxormin([1,2,3,4,5],5)"
   ]
  },
  {
   "cell_type": "markdown",
   "metadata": {},
   "source": [
    "# problem13:\n",
    "\n",
    "## problem statement:\n",
    " Factorial of a given number as a procedure\n",
    "\n",
    "##  Constraints:\n",
    "\n",
    "##  Test Case:\n",
    "* Factorial(5) -> 120\n",
    "* Factorial (6) -> 720"
   ]
  },
  {
   "cell_type": "code",
   "execution_count": 18,
   "metadata": {},
   "outputs": [
    {
     "name": "stdout",
     "output_type": "stream",
     "text": [
      "120\n",
      "720\n"
     ]
    }
   ],
   "source": [
    "def factorial(n):\n",
    "    f=1\n",
    "    for i in range(1,n+1):\n",
    "        f=f*i\n",
    "    return f\n",
    "print(factorial(5))\n",
    "print(factorial(6))"
   ]
  },
  {
   "cell_type": "markdown",
   "metadata": {},
   "source": [
    "# problem14:\n",
    "\n",
    "## problem statement:\n",
    "\n",
    " Procedure to generate multiplication tables.\n",
    "\n",
    "## Test Case:\n",
    "\n",
    "* MT(3, 5, 7) -> 3 X 5 = 15\n",
    "\n",
    "           3 X 6 = 18\n",
    "\n",
    "           3 X 7 = 21"
   ]
  },
  {
   "cell_type": "code",
   "execution_count": 19,
   "metadata": {},
   "outputs": [
    {
     "name": "stdout",
     "output_type": "stream",
     "text": [
      "3 x 5 = 15\n",
      "3 x 6 = 18\n",
      "3 x 7 = 21\n"
     ]
    }
   ],
   "source": [
    "def multitable(table,ub,lb):\n",
    "    for i in range(ub,lb+1):\n",
    "        print(table,'x',i,\"=\",table*i)\n",
    "        \n",
    "multitable(3,5,7)"
   ]
  },
  {
   "cell_type": "markdown",
   "metadata": {},
   "source": [
    "# problem15:\n",
    "\n",
    "## problem statement:\n",
    "\n",
    " Procedure to print the list of factors of a given number.\n",
    "\n",
    "## Test Case:\n",
    "\n",
    "* Factors(6) -> 1 2 3 6\n",
    "* FactorList (9) -> 1 3 9\n",
    "* FactorList (19) -> 1 19"
   ]
  },
  {
   "cell_type": "code",
   "execution_count": 20,
   "metadata": {},
   "outputs": [
    {
     "name": "stdout",
     "output_type": "stream",
     "text": [
      "[1, 2, 3, 6]\n",
      "[1, 3, 9]\n",
      "[1, 19]\n"
     ]
    }
   ],
   "source": [
    "def factors1(n):\n",
    "    a = []\n",
    "    for i in range(1,n+1):\n",
    "        if n%i == 0:\n",
    "            a.append(i)\n",
    "    return a\n",
    "print(factors1(6))\n",
    "print(factors1(9))\n",
    "print(factors1(19))"
   ]
  },
  {
   "cell_type": "markdown",
   "metadata": {},
   "source": [
    "# problem16:\n",
    "\n",
    "## problem statement:\n",
    "\n",
    " Procedure to check if a given number is Prime and returns a Boolean value.\n",
    "\n",
    "## Test Case:\n",
    "* IsPrime(3) -> True\n",
    "* IsPrime(6) -> False"
   ]
  },
  {
   "cell_type": "code",
   "execution_count": 21,
   "metadata": {},
   "outputs": [
    {
     "name": "stdout",
     "output_type": "stream",
     "text": [
      "True\n",
      "False\n"
     ]
    }
   ],
   "source": [
    "def isprime(n):\n",
    "    for i in range(2,n):\n",
    "        if (n%i==0):\n",
    "            return False\n",
    "        \n",
    "    return True\n",
    "        \n",
    "print(isprime(7))\n",
    "print(isprime(9))"
   ]
  },
  {
   "cell_type": "markdown",
   "metadata": {},
   "source": [
    "# problem17:\n",
    "\n",
    "## problem statement:\n",
    "\n",
    "Procedure to count the number of digits in a given number.\n",
    "\n",
    "## Test Case:\n",
    "\n",
    "* CountDigits(123456) -> 6"
   ]
  },
  {
   "cell_type": "code",
   "execution_count": 23,
   "metadata": {},
   "outputs": [
    {
     "data": {
      "text/plain": [
       "6"
      ]
     },
     "execution_count": 23,
     "metadata": {},
     "output_type": "execute_result"
    }
   ],
   "source": [
    "def countdigits(n):\n",
    "    count=0\n",
    "    while(n>0):        \n",
    "        count=count+1\n",
    "        n=n//10 \n",
    "    return(count)\n",
    "countdigits(154321)"
   ]
  }
 ],
 "metadata": {
  "kernelspec": {
   "display_name": "Python 3",
   "language": "python",
   "name": "python3"
  },
  "language_info": {
   "codemirror_mode": {
    "name": "ipython",
    "version": 3
   },
   "file_extension": ".py",
   "mimetype": "text/x-python",
   "name": "python",
   "nbconvert_exporter": "python",
   "pygments_lexer": "ipython3",
   "version": "3.7.3"
  }
 },
 "nbformat": 4,
 "nbformat_minor": 2
}
