{
 "cells": [
  {
   "cell_type": "markdown",
   "metadata": {},
   "source": [
    "# problem solving and programing\n",
    "\n",
    "# Dayno-11\n",
    "\n",
    "# date:14/05/19\n"
   ]
  },
  {
   "cell_type": "markdown",
   "metadata": {},
   "source": [
    "# problem1:\n",
    "\n",
    "Define a function to find the average of all the outer elements of an N x M matrix.\n",
    "\n",
    "## Testcase:\n",
    "\n",
    "averageOuterMatrix([[1, 2, 3], [4, 5, 6], [7, 8, 9], [10, 11, 12]] -> 4.5"
   ]
  },
  {
   "cell_type": "code",
   "execution_count": 1,
   "metadata": {},
   "outputs": [
    {
     "name": "stdout",
     "output_type": "stream",
     "text": [
      "1 2 3 6 9 12 11 10 7 4 "
     ]
    }
   ],
   "source": [
    "def rowPrint(a, r, rs, nc):\n",
    "    for i in range(rs, nc):\n",
    "        print(a[r][i], end=' ')\n",
    "        \n",
    "def columnPrint(a, c, cs, nr):\n",
    "    for i in range(cs, nr):\n",
    "        print(a[i][c], end=' ')\n",
    "        \n",
    "        \n",
    "def reverseRowPrint(a, r,rs, nc):\n",
    "    for i in range(nc-rs-1, -1, -1):\n",
    "        print(a[r][i], end=' ')\n",
    "        \n",
    "def reverseColumnPrint(a,c, cs, cstp, nr):\n",
    "    for i in range(nr-1-cs, cstp,-1):\n",
    "        print(a[i][c], end=' ')\n",
    "        \n",
    "def outermatrix(m1, nr, nc):\n",
    "    rowPrint(m1, 0, 0, nc)\n",
    "    columnPrint(m1, nc-1, 1, nr)\n",
    "    reverseRowPrint(m1, nr-1, nc-2, nc)\n",
    "    reverseColumnPrint(m1, 0, nr-3,0, nr)\n",
    "    \n",
    "        \n",
    "m1 = [[1,2,3],[4,5,6],[7,8,9],[10,11,12]]\n",
    "#rowPrint(m1,0,2)\n",
    "#columnPrint(m1,2,3)\n",
    "#reverseRowPrint(m1,2,3)\n",
    "#reverseColumnPrint(m1,0,1,3)\n",
    "outermatrix(m1,4,3)"
   ]
  },
  {
   "cell_type": "markdown",
   "metadata": {},
   "source": [
    "# Problem2:\n",
    "## Problem Statement:\n",
    " Define a function that take an array of integers A, and an integer K and returns the longest possible sub-set of A i.e A' such that the sum of no two elements in A' is divisible by K.\n",
    "\n",
    "## Constraints:\n",
    "First line in input contains the length of A and the integer K. Second line of input contains len(A) space-separated integers.\n",
    "\n",
    "Output must contain the length of A' list\n",
    "## Test cases:\n",
    "Sample Input :    4  3\n",
    "\n",
    "1 7 2 4\n",
    "\n",
    "Sample Output : 3"
   ]
  },
  {
   "cell_type": "code",
   "execution_count": 2,
   "metadata": {},
   "outputs": [
    {
     "name": "stdout",
     "output_type": "stream",
     "text": [
      "4 3\n",
      "[1, 7, 2, 4]\n",
      "3\n"
     ]
    }
   ],
   "source": [
    "def arr_of_func(n,m):\n",
    "    sub = [ ]\n",
    "    sub.append(n[0])\n",
    "    print(len(n),m)\n",
    "    print(n)\n",
    "    for i in range(1,len(n)):\n",
    "        if(checksub(n[i],sub,m)):\n",
    "            sub.append(n[i])\n",
    "    print(len(sub))\n",
    "def checksub(o,sub,m):\n",
    "    for i in range(len(sub)):\n",
    "        if(((o+sub[i])%m)==0):\n",
    "            return False\n",
    "    return True\n",
    "    \n",
    "n = [1,7,2,4]\n",
    "arr_of_func(n,3)"
   ]
  },
  {
   "cell_type": "code",
   "execution_count": null,
   "metadata": {},
   "outputs": [],
   "source": []
  }
 ],
 "metadata": {
  "kernelspec": {
   "display_name": "Python 3",
   "language": "python",
   "name": "python3"
  },
  "language_info": {
   "codemirror_mode": {
    "name": "ipython",
    "version": 3
   },
   "file_extension": ".py",
   "mimetype": "text/x-python",
   "name": "python",
   "nbconvert_exporter": "python",
   "pygments_lexer": "ipython3",
   "version": "3.7.3"
  }
 },
 "nbformat": 4,
 "nbformat_minor": 2
}
