{
 "cells": [
  {
   "cell_type": "markdown",
   "metadata": {},
   "source": [
    "# problemsolving and programming \n",
    "\n",
    "## Day no:08\n",
    "\n",
    "## Date:11 May,19"
   ]
  },
  {
   "cell_type": "markdown",
   "metadata": {},
   "source": [
    "# problem1:\n",
    "\n",
    "## problem statement:\n",
    "\n",
    "Define a function to identify the number of times a substring is repeating in a given string.\n",
    "\n",
    "## Test cases:\n",
    "\n",
    "* substringCount('str','substr')->1\n",
    "* substringCount('1234567891122334455', '3') -> 3\n",
    "* substringCount('abccddccc', 'cc') -> 3"
   ]
  },
  {
   "cell_type": "code",
   "execution_count": 1,
   "metadata": {},
   "outputs": [
    {
     "name": "stdout",
     "output_type": "stream",
     "text": [
      "1\n",
      "3\n",
      "3\n"
     ]
    }
   ],
   "source": [
    "def substringCount(str1,str2):\n",
    "    count=0\n",
    "    if len(str1)<= len(str2):\n",
    "        length = len(str1)\n",
    "        mstring = str2\n",
    "        sstring = str1\n",
    "    else:\n",
    "        length = len(str2)\n",
    "        mstring = str1\n",
    "        sstring = str2\n",
    "    for i in range(0,len(mstring)):\n",
    "        if(mstring[i:length] == sstring):\n",
    "            count += 1\n",
    "        length += 1\n",
    "    return count\n",
    "\n",
    "print(substringCount('str','substr'))\n",
    "print(substringCount('1234567891122334455', '3'))\n",
    "print(substringCount('abccddccc', 'cc'))"
   ]
  },
  {
   "cell_type": "markdown",
   "metadata": {},
   "source": [
    "# problem2:\n",
    "\n",
    "## problem statement:\n",
    "\n",
    "Define a function to merge the characters of two strings alternatively. The remaining characters\n",
    "\n",
    "of the longer string are printed in the same order at the end.\n",
    "    \n",
    "## Test cases:\n",
    "\n",
    "* mergeString('abcd', 'abcd') -> 'aabbccdd'\n",
    "* mergeString('abc', '123456') -> 'a1b2c3456'\n",
    "* mergeString('0', '123456') -> '0123456'\n"
   ]
  },
  {
   "cell_type": "code",
   "execution_count": 6,
   "metadata": {},
   "outputs": [
    {
     "data": {
      "text/plain": [
       "'aebfcgdh1i23'"
      ]
     },
     "execution_count": 6,
     "metadata": {},
     "output_type": "execute_result"
    }
   ],
   "source": [
    "def mergeString(str1,str2):\n",
    "    if len(str1) <= len(str2):\n",
    "        length = len(str1)\n",
    "        string=''\n",
    "        for i in range(0,length):\n",
    "            string = string+ str1[i] + str2[i]\n",
    "        for i in range(length,len(str2)):\n",
    "            string=string+str2[i]\n",
    "    else:\n",
    "        length= len(str2)\n",
    "        string=''\n",
    "        for i in range(0,length):\n",
    "            string = string+ str1[i] + str2[i]\n",
    "        for i in range(length,len(str1)):\n",
    "            string=string+str1[i]\n",
    "    return string\n",
    "mergeString('abcd123','efghi')"
   ]
  },
  {
   "cell_type": "markdown",
   "metadata": {},
   "source": [
    "# problem3:\n",
    "\n",
    "Define a function to convert a binary number to the corresponding decimal number\n",
    "\n",
    "## Test Values:\n",
    "\n",
    "* binaryToDecimal(1100) -> 12\n",
    "* binaryToDecimal(1010) -> 10\n",
    "* binaryToDecimal(111000) -> 56"
   ]
  },
  {
   "cell_type": "code",
   "execution_count": 15,
   "metadata": {},
   "outputs": [
    {
     "data": {
      "text/plain": [
       "12"
      ]
     },
     "execution_count": 15,
     "metadata": {},
     "output_type": "execute_result"
    }
   ],
   "source": [
    "def binary(n):\n",
    "    i = 0\n",
    "    sum = 0\n",
    "    while(n != 0):\n",
    "        digit = int(n % 10)\n",
    "        sum = sum + digit*(2**i)\n",
    "        n = n/10\n",
    "        i += 1\n",
    "    return sum\n",
    "\n",
    "binary(1100)"
   ]
  },
  {
   "cell_type": "markdown",
   "metadata": {},
   "source": [
    "# problem4:\n",
    "\n",
    "Define a function to convert a decimal number to the corresponding binary number\n",
    "\n",
    "## Test Values:\n",
    "\n",
    "* decimalToBinary(15) -> 1111\n",
    "* decimalToBinary(1) -> 1"
   ]
  },
  {
   "cell_type": "code",
   "execution_count": 11,
   "metadata": {},
   "outputs": [
    {
     "name": "stdout",
     "output_type": "stream",
     "text": [
      "1111"
     ]
    }
   ],
   "source": [
    "def decimalToBinary(n) :\n",
    "    if n>1:\n",
    "        decimalToBinary(n//2)\n",
    "    print(n%2, end='')\n",
    "decimalToBinary(15)"
   ]
  }
 ],
 "metadata": {
  "kernelspec": {
   "display_name": "Python 3",
   "language": "python",
   "name": "python3"
  },
  "language_info": {
   "codemirror_mode": {
    "name": "ipython",
    "version": 3
   },
   "file_extension": ".py",
   "mimetype": "text/x-python",
   "name": "python",
   "nbconvert_exporter": "python",
   "pygments_lexer": "ipython3",
   "version": "3.7.3"
  }
 },
 "nbformat": 4,
 "nbformat_minor": 2
}
