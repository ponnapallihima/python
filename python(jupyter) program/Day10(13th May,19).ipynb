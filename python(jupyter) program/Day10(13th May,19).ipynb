{
 "cells": [
  {
   "cell_type": "markdown",
   "metadata": {},
   "source": [
    "# problem1:\n",
    "\n",
    "## problemstatement:\n",
    "\n",
    "You are given n words. Some words may repeat. For each word, output its number of occurrences. The output order should correspond with the input order of appearance of the word.\n",
    "\n",
    "## Test cases:\n",
    "\n",
    "* First line of input contains the total number of words n. Next n lines contain words that need to processed.\n",
    "\n",
    "* First line of the output should contain the total number distinct words. Second line of output must contain the frequency of words the same order of their appearance as in the input"
   ]
  },
  {
   "cell_type": "code",
   "execution_count": 1,
   "metadata": {},
   "outputs": [
    {
     "name": "stdout",
     "output_type": "stream",
     "text": [
      "5\n",
      "2 2 2 2 2 "
     ]
    }
   ],
   "source": [
    "def uniq_ele(le,b):\n",
    "    uni =[]\n",
    "    uni.append(b[0])\n",
    "    index = 0\n",
    "    for i in range(len(b)):\n",
    "        if(whether(b[i],uni)==True):\n",
    "            uni.append(b[i])\n",
    "    print(len(uni))\n",
    "    for i in range(len(uni)):\n",
    "            unic(uni[i],b)\n",
    "def whether(c,uni):\n",
    "    for j in range(len(uni)):\n",
    "        if(uni[j]==c):\n",
    "            return False\n",
    "        return True\n",
    "def unic(c,b):\n",
    "    frq = 0\n",
    "    for i in range(len(b)):\n",
    "        if(b[i] == c):\n",
    "            frq = frq+1   \n",
    "    print(frq, end=\" \")\n",
    "\n",
    "b = ['a','b','c','a','b','c']\n",
    "uniq_ele(len(b),b)"
   ]
  },
  {
   "cell_type": "markdown",
   "metadata": {},
   "source": [
    "# problem2:\n",
    "\n",
    "## problem statement:\n",
    "\n",
    "Python script to determine the difference in date for given two dates in YYYY:MM:DD format(0 <= YYYY <= 9999, 1 <= MM <= 12, 1 <= DD <= 31) following the leap year rules. Return the total number of days existing between the two dates.\n",
    "\n",
    "## Testcase:\n",
    "\n",
    "* dateDifference('2019:05:10', '2019:05:01') -> 9\n",
    "* dateDifference('0003:03:03', '0003:06:06') -> 95\n",
    "* dateDifference('0001:03:27', '0001:06:03') -> 68\n",
    "\n",
    "## Explaination:\n",
    "\n",
    "calculate the month difference and subtract difference"
   ]
  },
  {
   "cell_type": "code",
   "execution_count": 1,
   "metadata": {},
   "outputs": [
    {
     "data": {
      "text/plain": [
       "95"
      ]
     },
     "execution_count": 1,
     "metadata": {},
     "output_type": "execute_result"
    }
   ],
   "source": [
    "def datedifference(date1,date2):\n",
    "    if yearfromdate(date1) == yearfromdate(date2):\n",
    "        return abs(totaldaysdate(date1) - totaldaysdate(date2))\n",
    "    elif yearfromdate(date2) - yearfromdate(date1) == 1:\n",
    "        return totalDaysDateEndYear(date1) + totaldaysdate(date2)\n",
    "    else:\n",
    "        sum = totalDaysDateEndYear(date1) + totaldaysdate(date2)\n",
    "        year1 = yearfromdate(date1)\n",
    "        year2 = yearfromdate(date2)\n",
    "        for i in range(year+1, year2):\n",
    "            sum += numdaysinyear(i)\n",
    "        return sum\n",
    "\n",
    "def dateinFeb(n):\n",
    "    if (n%4==0 and n%100!=0 or n%400==0):\n",
    "        return 29\n",
    "    return 28\n",
    "\n",
    "\n",
    "def numdaysinmonth(month,year):\n",
    "    monthDays = {'01':31, '03':31, '04':30, '05':31, '06':30, '07':31, '08':31, '09':30, '10':31, '11':30, '12':31 }\n",
    "    if(month == 2):\n",
    "        return dateinFeb(year)\n",
    "    elif (month < 7 and month !=2 and month % 2 == 0) or (month>7 and month % 2 != 0):\n",
    "        return 30   \n",
    "    else:\n",
    "        return 31\n",
    "    \n",
    "def numdaysinyear(year):\n",
    "    if dateinFeb(year) == 29:\n",
    "        return 366\n",
    "    return 365\n",
    "\n",
    "#this function returns total number of days completed till the given date\n",
    "def totaldaysdate(date):\n",
    "    year = yearfromdate(date)\n",
    "    month =monthfromdate(date) \n",
    "    day = daysfromdate(date)\n",
    "    sum = 0\n",
    "    for i in range(1, month):\n",
    "        sum += numdaysinmonth(i, year)\n",
    "    sum += ( day)\n",
    "    return sum\n",
    "\n",
    "def totalDaysDateEndYear(date):\n",
    "    year = yearfromdate(date)\n",
    "    month =monthfromdate(date) \n",
    "    day = daysfromdate(date)\n",
    "    sum=0\n",
    "    for i in range( month+1,13):\n",
    "        sum += numdaysinmonth(i, year)\n",
    "    sum += (numdaysinmonth(month,year)- day +1)\n",
    "    return sum\n",
    "    \n",
    "\n",
    "def  yearfromdate(date):\n",
    "    return int(int(date[:4]))\n",
    "def monthfromdate(date):\n",
    "    return int( int(date[5:7]))\n",
    "def daysfromdate(date):\n",
    "    return(int(date[len(date)-2:]))\n",
    "    \n",
    "    \n",
    "#datedifference('0001:01:31','0002:01:31')\n",
    "\n",
    "datedifference('0003:03:03', '0003:06:06')"
   ]
  }
 ],
 "metadata": {
  "kernelspec": {
   "display_name": "Python 3",
   "language": "python",
   "name": "python3"
  },
  "language_info": {
   "codemirror_mode": {
    "name": "ipython",
    "version": 3
   },
   "file_extension": ".py",
   "mimetype": "text/x-python",
   "name": "python",
   "nbconvert_exporter": "python",
   "pygments_lexer": "ipython3",
   "version": "3.7.3"
  }
 },
 "nbformat": 4,
 "nbformat_minor": 2
}
