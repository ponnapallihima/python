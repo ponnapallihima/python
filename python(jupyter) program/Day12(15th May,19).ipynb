{
 "cells": [
  {
   "cell_type": "markdown",
   "metadata": {},
   "source": [
    "# Problem Solving and Programming\n",
    "\n",
    "## Day No - 12\n",
    "\n",
    "## Date: 15/05/19"
   ]
  },
  {
   "cell_type": "markdown",
   "metadata": {},
   "source": [
    "# Python packages and modules\n",
    "\n",
    "coollection of python script"
   ]
  },
  {
   "cell_type": "code",
   "execution_count": 10,
   "metadata": {},
   "outputs": [
    {
     "data": {
      "text/plain": [
       "120"
      ]
     },
     "execution_count": 10,
     "metadata": {},
     "output_type": "execute_result"
    }
   ],
   "source": [
    "from python.function import factorial\n",
    "factorial(5)"
   ]
  },
  {
   "cell_type": "code",
   "execution_count": 6,
   "metadata": {},
   "outputs": [
    {
     "data": {
      "text/plain": [
       "120"
      ]
     },
     "execution_count": 6,
     "metadata": {},
     "output_type": "execute_result"
    }
   ],
   "source": [
    "import python.function as f\n",
    "f.factorial(5)"
   ]
  },
  {
   "cell_type": "code",
   "execution_count": 11,
   "metadata": {},
   "outputs": [
    {
     "data": {
      "text/plain": [
       "1307674368000"
      ]
     },
     "execution_count": 11,
     "metadata": {},
     "output_type": "execute_result"
    }
   ],
   "source": [
    "import python.function as f2\n",
    "f2.factorial(15)"
   ]
  },
  {
   "cell_type": "markdown",
   "metadata": {},
   "source": [
    "# Subpackages:\n",
    "\n",
    "package inside another package"
   ]
  },
  {
   "cell_type": "code",
   "execution_count": 9,
   "metadata": {},
   "outputs": [
    {
     "data": {
      "text/plain": [
       "'pto'"
      ]
     },
     "execution_count": 9,
     "metadata": {},
     "output_type": "execute_result"
    }
   ],
   "source": [
    "from python.String.StringFunction import alternatecharacters\n",
    "alternatecharacters('python')"
   ]
  },
  {
   "cell_type": "code",
   "execution_count": 10,
   "metadata": {},
   "outputs": [
    {
     "data": {
      "text/plain": [
       "'pto'"
      ]
     },
     "execution_count": 10,
     "metadata": {},
     "output_type": "execute_result"
    }
   ],
   "source": [
    "import python.String.StringFunction as ac\n",
    "ac.alternatecharacters('python')"
   ]
  },
  {
   "cell_type": "code",
   "execution_count": 14,
   "metadata": {},
   "outputs": [
    {
     "data": {
      "text/plain": [
       "'nohtyp'"
      ]
     },
     "execution_count": 14,
     "metadata": {},
     "output_type": "execute_result"
    }
   ],
   "source": [
    "from python.String.StringFunction import reversestring\n",
    "reversestring('python')\n",
    "\n",
    "\n"
   ]
  },
  {
   "cell_type": "code",
   "execution_count": 12,
   "metadata": {},
   "outputs": [
    {
     "data": {
      "text/plain": [
       "'nohtyp'"
      ]
     },
     "execution_count": 12,
     "metadata": {},
     "output_type": "execute_result"
    }
   ],
   "source": [
    "import python.String.StringFunction as ac\n",
    "ac.reversestring('python')"
   ]
  },
  {
   "cell_type": "code",
   "execution_count": 15,
   "metadata": {},
   "outputs": [
    {
     "data": {
      "text/plain": [
       "123"
      ]
     },
     "execution_count": 15,
     "metadata": {},
     "output_type": "execute_result"
    }
   ],
   "source": [
    "\n",
    "from python.String.StringFunction import *\n",
    "import math\n",
    "math.floor(123.99)\n",
    "\n"
   ]
  },
  {
   "cell_type": "markdown",
   "metadata": {},
   "source": [
    "# Regular Expression:\n",
    "\n",
    "A set of all possible values that satisfy a given pattern"
   ]
  },
  {
   "cell_type": "code",
   "execution_count": 17,
   "metadata": {},
   "outputs": [
    {
     "name": "stdout",
     "output_type": "stream",
     "text": [
      "does not match\n"
     ]
    }
   ],
   "source": [
    "import re\n",
    "\n",
    "pattern = '^g....$'\n",
    "domain= 'google'\n",
    "\n",
    "if re.match(pattern,domain):\n",
    "    print(\"match\")\n",
    "else:\n",
    "    print(\"does not match\")"
   ]
  },
  {
   "cell_type": "code",
   "execution_count": 18,
   "metadata": {},
   "outputs": [
    {
     "name": "stdout",
     "output_type": "stream",
     "text": [
      "match\n"
     ]
    }
   ],
   "source": [
    "import re\n",
    "\n",
    "pattern = '^[a-z]{3,9}$'\n",
    "domain= 'gmail'\n",
    "\n",
    "if re.match(pattern,domain):\n",
    "    print(\"match\")\n",
    "else:\n",
    "    print(\"does not match\")"
   ]
  },
  {
   "cell_type": "code",
   "execution_count": 1,
   "metadata": {},
   "outputs": [
    {
     "name": "stdout",
     "output_type": "stream",
     "text": [
      "match\n"
     ]
    }
   ],
   "source": [
    "#postal code\n",
    "\n",
    "\n",
    "import re\n",
    "\n",
    "postalCodePattern= '^[1-9][0-9]{5}$'\n",
    "code= '500001'\n",
    "if re.match(postalCodePattern,code):\n",
    "    print(\"match\")\n",
    "else:\n",
    "    print(\"does not match\")"
   ]
  },
  {
   "cell_type": "code",
   "execution_count": 2,
   "metadata": {},
   "outputs": [
    {
     "name": "stdout",
     "output_type": "stream",
     "text": [
      "match\n"
     ]
    }
   ],
   "source": [
    "#phone number with +91\n",
    "\n",
    "\n",
    "import re\n",
    "\n",
    "pattern = '^[+][9][1][6-9][0-9]{9}$'\n",
    "domain = '+919182503000'\n",
    "if re.match(pattern,domain):\n",
    "    print(\"match\")\n",
    "else:\n",
    "    print(\"does not match\")"
   ]
  },
  {
   "cell_type": "code",
   "execution_count": 8,
   "metadata": {},
   "outputs": [
    {
     "name": "stdout",
     "output_type": "stream",
     "text": [
      "match\n"
     ]
    }
   ],
   "source": [
    "#phone number pattern\n",
    "\n",
    "\n",
    "import re\n",
    "\n",
    "phoneNumberPattern= '^[6-9][0-9]{9}$'\n",
    "\n",
    "ph='9000000012'\n",
    "\n",
    "if re.match(phoneNumberPattern,ph):\n",
    "    print(\"match\")\n",
    "else:\n",
    "    print(\"does not match\")"
   ]
  },
  {
   "cell_type": "code",
   "execution_count": 3,
   "metadata": {},
   "outputs": [
    {
     "name": "stdout",
     "output_type": "stream",
     "text": [
      "match\n"
     ]
    }
   ],
   "source": [
    "#email id validation\n",
    "\n",
    "import re\n",
    "\n",
    "pattern='^[a-z][a-z0-9_-]{5,13}[a-z0-9][@][0-9a-z]{3,9}[.][a-z]{2,3}$'\n",
    "\n",
    "code='gitam_cs9@gmail.com'\n",
    "\n",
    "if re.match(pattern,code):\n",
    "    print(\"match\")\n",
    "else:\n",
    "    print(\"does not match\")"
   ]
  },
  {
   "cell_type": "code",
   "execution_count": 2,
   "metadata": {},
   "outputs": [
    {
     "name": "stdout",
     "output_type": "stream",
     "text": [
      "enter email : gitam_cs9@gmail.com\n",
      "match\n"
     ]
    }
   ],
   "source": [
    "#email validation\n",
    "import re\n",
    "\n",
    "Pattern = '^[a-z][a-z0-9_.-]{5,13}[a-z0-9][@][0-9a-z]{3,9}[.][a-z]{2,3}$'\n",
    "\n",
    "code = input(\"enter email : \")\n",
    "\n",
    "if re.match(Pattern,code):\n",
    "    print(\"match\")\n",
    "else:\n",
    "    print(\"does not match\")"
   ]
  },
  {
   "cell_type": "code",
   "execution_count": 5,
   "metadata": {},
   "outputs": [
    {
     "name": "stdout",
     "output_type": "stream",
     "text": [
      "match\n"
     ]
    }
   ],
   "source": [
    "# password validation\n",
    "\n",
    "import re\n",
    "\n",
    "Pattern= '^(?=.*\\d)(?=.*[a-z])(?=.*[A-Z]).{6,21}$'\n",
    "\n",
    "\n",
    "\n",
    "code = 'anlLs*igs&_j4'\n",
    "\n",
    "if re.match(Pattern,code):\n",
    "    print(\"match\")\n",
    "else:\n",
    "    print(\"does not match\")"
   ]
  },
  {
   "cell_type": "markdown",
   "metadata": {},
   "source": [
    "# Iterators:"
   ]
  },
  {
   "cell_type": "code",
   "execution_count": 16,
   "metadata": {},
   "outputs": [
    {
     "name": "stdout",
     "output_type": "stream",
     "text": [
      "1 2 3 4 5 6 1 2 3 4 5 6 "
     ]
    }
   ],
   "source": [
    "li=[1,2,3,4,5,6]\n",
    "\n",
    "for i in li:\n",
    "     print(i,end=' ')\n",
    "        \n",
    "type(li)\n",
    "it=iter(li)\n",
    "for i in it:\n",
    "    print(i,end=' ')"
   ]
  },
  {
   "cell_type": "markdown",
   "metadata": {},
   "source": [
    "# Generators in python"
   ]
  },
  {
   "cell_type": "code",
   "execution_count": 6,
   "metadata": {},
   "outputs": [
    {
     "data": {
      "text/plain": [
       "285"
      ]
     },
     "execution_count": 6,
     "metadata": {},
     "output_type": "execute_result"
    }
   ],
   "source": [
    "li = [i**2 for i in range(1,10)]\n",
    "li\n",
    "\n",
    "sum(li)"
   ]
  },
  {
   "cell_type": "code",
   "execution_count": 10,
   "metadata": {},
   "outputs": [
    {
     "name": "stdout",
     "output_type": "stream",
     "text": [
      "1 8 27 64 125 216 343 512 729 1000 "
     ]
    }
   ],
   "source": [
    "li=[i**3 for i in range(1,10)]\n",
    "li\n",
    "\n",
    "gn=(i**3 for i in range(1,11))\n",
    "\n",
    "for i in gn:\n",
    "    print(i,end=' ')"
   ]
  },
  {
   "cell_type": "code",
   "execution_count": null,
   "metadata": {},
   "outputs": [],
   "source": []
  }
 ],
 "metadata": {
  "kernelspec": {
   "display_name": "Python 3",
   "language": "python",
   "name": "python3"
  },
  "language_info": {
   "codemirror_mode": {
    "name": "ipython",
    "version": 3
   },
   "file_extension": ".py",
   "mimetype": "text/x-python",
   "name": "python",
   "nbconvert_exporter": "python",
   "pygments_lexer": "ipython3",
   "version": "3.7.3"
  }
 },
 "nbformat": 4,
 "nbformat_minor": 2
}
