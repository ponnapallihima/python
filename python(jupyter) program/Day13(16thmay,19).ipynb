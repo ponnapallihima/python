{
 "cells": [
  {
   "cell_type": "markdown",
   "metadata": {},
   "source": [
    "# problem solving and programming\n",
    "\n",
    "## Dayno-13\n",
    "\n",
    "## Date:16/05/19\n",
    "\n",
    "### Day objective:\n",
    "\n",
    "1. Functional programming\n",
    "2. External libraries\n",
    "3. file handling/Data processing"
   ]
  },
  {
   "cell_type": "markdown",
   "metadata": {},
   "source": [
    "# problem1:\n",
    "\n",
    "\n",
    "Define a function to read data from a text file"
   ]
  },
  {
   "cell_type": "code",
   "execution_count": 9,
   "metadata": {},
   "outputs": [
    {
     "data": {
      "text/plain": [
       "'Data in line1\\nData in line2\\nData in line3'"
      ]
     },
     "execution_count": 9,
     "metadata": {},
     "output_type": "execute_result"
    }
   ],
   "source": [
    "def readfileData(filename):\n",
    "    f=open(filename,'r')\n",
    "    filedata=f.read()\n",
    "    \n",
    "    f.close()\n",
    "    return filedata\n",
    "readfileData('Datafiles/Data.txt')"
   ]
  },
  {
   "cell_type": "code",
   "execution_count": 10,
   "metadata": {},
   "outputs": [
    {
     "name": "stdout",
     "output_type": "stream",
     "text": [
      "Data in line1\n",
      "Data in line2\n",
      "Data in line3"
     ]
    }
   ],
   "source": [
    "def readfileData(filename):\n",
    "    with open(filename,'r') as f:\n",
    "        for line in f:\n",
    "            print(line,end='')\n",
    "    return\n",
    "\n",
    "readfileData('Datafiles/Data.txt')"
   ]
  },
  {
   "cell_type": "code",
   "execution_count": 8,
   "metadata": {},
   "outputs": [],
   "source": [
    "def writeIntofile(filename,data,mode):\n",
    "    with open(filename,mode)as f:\n",
    "        f.write(data)\n",
    "    return\n",
    "writeIntofile('Datafiles/filewrite.txt','third line','a')"
   ]
  },
  {
   "cell_type": "markdown",
   "metadata": {},
   "source": [
    "# problem2:\n",
    "\n",
    "## problemstatement:\n",
    "\n",
    "Define a function to generate a Marks data file(textfile)\n",
    "for 1300 students such that each mark is entered in a new line.\n",
    "Marks range from 0 to 100(inclusive)as  random numbers\n",
    "\n",
    "## constraints:\n",
    "\n",
    "## Test case:\n",
    "\n",
    "* for 1300 students such that each mark is entered in a new line\n",
    "* Marks range from 0 to 100(inclusive)as random numbers"
   ]
  },
  {
   "cell_type": "code",
   "execution_count": 14,
   "metadata": {},
   "outputs": [],
   "source": [
    "import random\n",
    "def generateMarksData(n,filename):\n",
    "    with open(filename,'w') as marksfile:\n",
    "        for i in range(0,n):\n",
    "            marks=random.randint(0,101)\n",
    "            marksfile.write(str(marks)+'\\n')\n",
    "    return\n",
    "\n",
    "generateMarksData(1300,'Datafiles/Mark1300.txt')"
   ]
  },
  {
   "cell_type": "markdown",
   "metadata": {},
   "source": [
    "# problem3:\n",
    "\n",
    "## problem statement:\n",
    "\n",
    "Genrate a report on the marks data with the following indicators\n",
    "* Highest Mark:\n",
    "* Lowest Mark:\n",
    "* Average Mark:\n",
    "* No of students with distinction(>80):\n",
    "* No of students with first class(>70):\n",
    "* No of students with second class(>60):\n",
    "* No of students with third class(>40):\n",
    "* No of students failed(<40:)    "
   ]
  },
  {
   "cell_type": "code",
   "execution_count": 15,
   "metadata": {},
   "outputs": [
    {
     "name": "stdout",
     "output_type": "stream",
     "text": [
      "101\n",
      "0\n",
      "49.941538461538464\n",
      "distinction 267\n",
      "firstclass 263\n",
      "second class 144\n",
      "third class 113\n",
      "fail 513\n"
     ]
    },
    {
     "data": {
      "text/plain": [
       "0.002642706999949951"
      ]
     },
     "execution_count": 15,
     "metadata": {},
     "output_type": "execute_result"
    }
   ],
   "source": [
    "import timeit\n",
    "def readfiledata(filename):\n",
    "    with open (filename,'r') as marksfile:\n",
    "        start=timeit.default_timer()\n",
    "        sum=0\n",
    "        c=d=e=f=g=0\n",
    "        a=[]\n",
    "        for i in range(0,1300):\n",
    "            a.append(int(marksfile.readline()))\n",
    "        print(max(a))\n",
    "        print(min(a))\n",
    "        for i in range(0,len(a)):\n",
    "            sum=sum+a[i]\n",
    "        average=sum/1300\n",
    "        print(average)\n",
    "        for i in range (0,len(a)):\n",
    "            if a[i]>=80:\n",
    "                c=c+1\n",
    "            if 60<=a[i]<80:\n",
    "                d=d+1\n",
    "            if 50<=a[i]<60:\n",
    "                e=e+1\n",
    "            if 40<=a[i]<50:\n",
    "                f=f+1\n",
    "            if a[i]<40:\n",
    "                g=g+1\n",
    "        print('distinction',c)\n",
    "        print('firstclass',d)\n",
    "        print('second class',e)\n",
    "        print('third class',f)\n",
    "        print('fail',g)\n",
    "        return timeit.default_timer() - start   \n",
    "            \n",
    "        \n",
    "readfiledata('Datafiles/Mark1300.txt')"
   ]
  },
  {
   "cell_type": "markdown",
   "metadata": {},
   "source": [
    "# MapExample:"
   ]
  },
  {
   "cell_type": "code",
   "execution_count": 28,
   "metadata": {},
   "outputs": [
    {
     "name": "stdout",
     "output_type": "stream",
     "text": [
      "0.00016117000086524058\n"
     ]
    },
    {
     "data": {
      "text/plain": [
       "[1.0, 2.0, 3.0, 4.0, 5.0, 6.0]"
      ]
     },
     "execution_count": 28,
     "metadata": {},
     "output_type": "execute_result"
    }
   ],
   "source": [
    "import timeit\n",
    "def square(n):\n",
    "    return n * n\n",
    "st=timeit.default_timer()\n",
    "li=[1,2,3,4,5,6]\n",
    "#s=str(li)\n",
    "s=list(map(str,li))\n",
    "\n",
    "s=[float(i)for i in s]\n",
    "print(timeit.default_timer()-st)\n",
    "s"
   ]
  },
  {
   "cell_type": "markdown",
   "metadata": {},
   "source": [
    "## numpy:"
   ]
  },
  {
   "cell_type": "code",
   "execution_count": 34,
   "metadata": {},
   "outputs": [
    {
     "name": "stdout",
     "output_type": "stream",
     "text": [
      "[[0 1 2]\n",
      " [3 4 5]]\n"
     ]
    }
   ],
   "source": [
    "import numpy as np #Importing libraries\n",
    "\n",
    "a=np.array([[0,1,2],[3,4,5]])\n",
    "\n",
    "print(a)\n"
   ]
  }
 ],
 "metadata": {
  "kernelspec": {
   "display_name": "Python 3",
   "language": "python",
   "name": "python3"
  },
  "language_info": {
   "codemirror_mode": {
    "name": "ipython",
    "version": 3
   },
   "file_extension": ".py",
   "mimetype": "text/x-python",
   "name": "python",
   "nbconvert_exporter": "python",
   "pygments_lexer": "ipython3",
   "version": "3.7.3"
  }
 },
 "nbformat": 4,
 "nbformat_minor": 2
}
