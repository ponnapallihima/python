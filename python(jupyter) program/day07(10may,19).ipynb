{
 "cells": [
  {
   "cell_type": "markdown",
   "metadata": {},
   "source": [
    "# Problem Solving and Programming:\n",
    "\n",
    "## Day No.- 07\n",
    "## Date: 10 May 19"
   ]
  },
  {
   "cell_type": "markdown",
   "metadata": {},
   "source": [
    "# Recursion:"
   ]
  },
  {
   "cell_type": "markdown",
   "metadata": {},
   "source": [
    "# problem1:\n",
    "\n",
    "## problem statement:\n",
    "\n",
    "Find the GCD of a number by recursion method\n",
    "\n",
    "## Constraints:\n",
    "\n",
    "## Test Case:"
   ]
  },
  {
   "cell_type": "code",
   "execution_count": 8,
   "metadata": {},
   "outputs": [
    {
     "data": {
      "text/plain": [
       "3"
      ]
     },
     "execution_count": 8,
     "metadata": {},
     "output_type": "execute_result"
    }
   ],
   "source": [
    "#gcd of two numbers remains the same when \n",
    "#smaller parameter is reduced to the remainder\n",
    "#and larger parameter is replaced by smaller number\n",
    "#gcd(a,b)=gcd(b%a,a)\n",
    "def gcdRecursive(a,b):\n",
    "    if b%a==0:\n",
    "        return a\n",
    "    else:\n",
    "        return gcdRecursive(b%a,a)\n",
    "gcdRecursive(12,39)"
   ]
  },
  {
   "cell_type": "code",
   "execution_count": 9,
   "metadata": {},
   "outputs": [
    {
     "data": {
      "text/plain": [
       "3"
      ]
     },
     "execution_count": 9,
     "metadata": {},
     "output_type": "execute_result"
    }
   ],
   "source": [
    "#Iterative GCD\n",
    "def gcdIterative(a,b):\n",
    "    r=b % a\n",
    "    if (r==0):\n",
    "        return a\n",
    "    while r!=0:\n",
    "        r=b%a\n",
    "        b=a\n",
    "        a=r\n",
    "    return b\n",
    "gcdIterative(12,39)"
   ]
  },
  {
   "cell_type": "markdown",
   "metadata": {},
   "source": [
    "# problem2:\n",
    "\n",
    "## problem statement:\n",
    "\n",
    " Tower of hanoi\n",
    "\n",
    "## Constraints:\n",
    "\n",
    "1.Move only one disk at a time\n",
    "\n",
    "2.Larger disk cannot be placed on smaller disk\n",
    "\n",
    "## Test Case:\n",
    "\n",
    "## Explaination:\n",
    "n disks -> move n-1 from source to temp\n",
    "\n",
    "       move nth disk from source to destination\n",
    "\n",
    "       move n-1 disk from temp to dest\n",
    "3 disks -> move 2 disks from source to temp\n",
    "\n",
    "       move 3rd disk from source to dest\n",
    "\n",
    "       move 2 disk from temp to dest"
   ]
  },
  {
   "cell_type": "code",
   "execution_count": 10,
   "metadata": {},
   "outputs": [
    {
     "name": "stdout",
     "output_type": "stream",
     "text": [
      "move 1 disk from  a to c\n",
      "move 2 disk from a to b\n",
      "move 1 disk from  c to b\n",
      "move 3 disk from a to c\n",
      "move 1 disk from  b to a\n",
      "move 2 disk from b to c\n",
      "move 1 disk from  a to c\n"
     ]
    }
   ],
   "source": [
    "def towerofHanoi(n,source,temp,dest):\n",
    "    if n==1:\n",
    "        print('move',n,'disk from ',source ,'to', dest)\n",
    "        return \n",
    "    else:\n",
    "        towerofHanoi(n-1,source, dest, temp)\n",
    "        print('move' , n, 'disk from', source ,'to', dest)\n",
    "        towerofHanoi(n-1, temp, source, dest)\n",
    "        return\n",
    "\n",
    "towerofHanoi(3,'a','b','c')"
   ]
  },
  {
   "cell_type": "markdown",
   "metadata": {},
   "source": [
    "# problem3:\n",
    "\n",
    "## problem statement:\n",
    "\n",
    "Find the power of a number by recursion method\n",
    "\n",
    "## Constraints:\n",
    "\n",
    "## Test Case:\n"
   ]
  },
  {
   "cell_type": "code",
   "execution_count": 11,
   "metadata": {},
   "outputs": [
    {
     "data": {
      "text/plain": [
       "8"
      ]
     },
     "execution_count": 11,
     "metadata": {},
     "output_type": "execute_result"
    }
   ],
   "source": [
    "def recursive(n,r):\n",
    "    if r==1:\n",
    "        return n\n",
    "    else:\n",
    "        return recursive(n,r-1)*n\n",
    "recursive(2,3)"
   ]
  },
  {
   "cell_type": "markdown",
   "metadata": {},
   "source": [
    "# Iterative solution:"
   ]
  },
  {
   "cell_type": "code",
   "execution_count": 12,
   "metadata": {},
   "outputs": [
    {
     "data": {
      "text/plain": [
       "1024"
      ]
     },
     "execution_count": 12,
     "metadata": {},
     "output_type": "execute_result"
    }
   ],
   "source": [
    "def power(n,r):\n",
    "    prod=1\n",
    "    for i in range(1,r+1):\n",
    "        prod *= n\n",
    "    return prod\n",
    "power(2,10)"
   ]
  },
  {
   "cell_type": "code",
   "execution_count": null,
   "metadata": {},
   "outputs": [],
   "source": []
  },
  {
   "cell_type": "markdown",
   "metadata": {},
   "source": [
    "# problem4:\n",
    "\n",
    "## problem statement:\n",
    "  Procedure to check if a given number is a Perfect Number. ( Perfect number is a number for which the sum of all it's divisors is equal to the number itself)\n",
    "\n",
    "## Test Case:\n",
    "                                                             \n",
    "* IsPerfect(3) -> False\n",
    "* IsPerfect (6) -> True"
   ]
  },
  {
   "cell_type": "code",
   "execution_count": 1,
   "metadata": {},
   "outputs": [
    {
     "name": "stdout",
     "output_type": "stream",
     "text": [
      "False\n",
      "True\n"
     ]
    }
   ],
   "source": [
    "def isperfect(n):\n",
    "    sum1 = 0\n",
    "    for i in range(1, n):\n",
    "        if(n % i == 0):\n",
    "            sum1 = sum1 + i\n",
    "    if (sum1 == n):\n",
    "        return True\n",
    "    else:\n",
    "        return False\n",
    "print(isperfect(3))\n",
    "print(isperfect(6))"
   ]
  },
  {
   "cell_type": "markdown",
   "metadata": {},
   "source": [
    "# problem5:\n",
    "\n",
    "## problem statement:\n",
    "\n",
    "Procedure to generate the first N perfect numbers. \n",
    "\n",
    "## Test Case:\n",
    "\n",
    "* GeneratePerfect(2) -> 6 28\n",
    "* GeneratePerfect (4) -> 6 28 496 8128"
   ]
  },
  {
   "cell_type": "code",
   "execution_count": 2,
   "metadata": {},
   "outputs": [
    {
     "name": "stdout",
     "output_type": "stream",
     "text": [
      "[6, 28]\n",
      "[6, 28, 496, 8128]\n"
     ]
    }
   ],
   "source": [
    "def isPerfect(n):\n",
    "    sum = 0\n",
    "    for i in range(1, n):\n",
    "        if(n % i == 0):\n",
    "            sum = sum + i\n",
    "    if(sum == n):\n",
    "        return True\n",
    "    else:\n",
    "        return False\n",
    "\n",
    "def generatePerfect(num):\n",
    "    list1 = []\n",
    "    count = 1\n",
    "    countPerfect = 1\n",
    "    while(countPerfect <= num):\n",
    "            if(isPerfect(count) == True):\n",
    "                list1.append(count)\n",
    "                countPerfect = countPerfect + 1\n",
    "            count = count + 1\n",
    "    return list1\n",
    "\n",
    "print(generatePerfect(2))\n",
    "print(generatePerfect(4))"
   ]
  },
  {
   "cell_type": "markdown",
   "metadata": {},
   "source": [
    "# problem6:\n",
    "\n",
    "## problem statement:\n",
    "\n",
    " Design a procedure to calculate the squareroot of a number \"without using the math function sqrt\".\n",
    "\n",
    "## Test Case:\n",
    "* Squareroot(36) -> 6"
   ]
  },
  {
   "cell_type": "code",
   "execution_count": 5,
   "metadata": {},
   "outputs": [
    {
     "data": {
      "text/plain": [
       "6.0"
      ]
     },
     "execution_count": 5,
     "metadata": {},
     "output_type": "execute_result"
    }
   ],
   "source": [
    "def squareroot(n):\n",
    "    for i in range(1,n//2):\n",
    "        s=pow(n,0.5)\n",
    "    return s\n",
    "squareroot(36)"
   ]
  },
  {
   "cell_type": "markdown",
   "metadata": {},
   "source": [
    "# problem7:\n",
    "\n",
    "## problem statement:\n",
    "\n",
    "Design a procedure to sort a given array in ascending order\n",
    "\n",
    "## Test Case:\n",
    "\n",
    "* sorting([3, 2, 1, 4, 4, 5, 6]) -> [1, 2, 3, 4, 4, 5, 6]\n",
    "* sorting([1, 2, 3]) -> [1, 2, 3]"
   ]
  },
  {
   "cell_type": "code",
   "execution_count": 6,
   "metadata": {},
   "outputs": [
    {
     "name": "stdout",
     "output_type": "stream",
     "text": [
      "[1, 2, 3, 4, 4, 5, 6]\n",
      "[1, 2, 3]\n"
     ]
    }
   ],
   "source": [
    "def sorting(a):\n",
    "    a.sort()\n",
    "    return a\n",
    "print(sorting([3,2,1,4,4,5,6]))\n",
    "print(sorting([1,2,3]))"
   ]
  },
  {
   "cell_type": "markdown",
   "metadata": {},
   "source": [
    "# problem8:\n",
    "\n",
    "## problem statement:\n",
    "\n",
    "Design a procedure to sort a given array in ascending order\n",
    "\n",
    "## Constraints:\n",
    "\n",
    "## Test Case:\n",
    "\n",
    "* sorting([3, 2, 1, 4, 4, 5, 6]) -> [1, 2, 3, 4, 4, 5, 6]\n",
    "* sorting([1, 2, 3]) -> [1, 2, 3]"
   ]
  },
  {
   "cell_type": "code",
   "execution_count": 14,
   "metadata": {},
   "outputs": [
    {
     "name": "stdout",
     "output_type": "stream",
     "text": [
      "[1, 2, 3, 4, 4, 5, 6]\n",
      "[1, 2, 3]\n"
     ]
    }
   ],
   "source": [
    "def sorting(a):\n",
    "    a.sort()\n",
    "    return a\n",
    "print(sorting([3,2,1,4,4,5,6]))\n",
    "print(sorting([1,2,3]))"
   ]
  },
  {
   "cell_type": "markdown",
   "metadata": {},
   "source": [
    "# problem9:\n",
    "\n",
    "## problem statement:\n",
    "\n",
    "Generating the nth Fibonocci number\n",
    "\n",
    "## Constraints:\n",
    "\n",
    "## Test Case:\n"
   ]
  },
  {
   "cell_type": "code",
   "execution_count": 15,
   "metadata": {},
   "outputs": [
    {
     "data": {
      "text/plain": [
       "2"
      ]
     },
     "execution_count": 15,
     "metadata": {},
     "output_type": "execute_result"
    }
   ],
   "source": [
    "def fibonoci(n):\n",
    "    if n==0:\n",
    "        return 0\n",
    "    elif n==1:\n",
    "        return 1\n",
    "    elif n==2:\n",
    "        return 1\n",
    "    else:\n",
    "        return fibonoci(n-2)+fibonoci(n-1)\n",
    "fibonoci(3)"
   ]
  }
 ],
 "metadata": {
  "kernelspec": {
   "display_name": "Python 3",
   "language": "python",
   "name": "python3"
  },
  "language_info": {
   "codemirror_mode": {
    "name": "ipython",
    "version": 3
   },
   "file_extension": ".py",
   "mimetype": "text/x-python",
   "name": "python",
   "nbconvert_exporter": "python",
   "pygments_lexer": "ipython3",
   "version": "3.7.3"
  }
 },
 "nbformat": 4,
 "nbformat_minor": 2
}
